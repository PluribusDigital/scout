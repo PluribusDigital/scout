{
 "cells": [
  {
   "cell_type": "markdown",
   "metadata": {},
   "source": [
    "# Classification and Regression Trees with R\n",
    "\n",
    "[source](https://machinelearningmastery.com/non-linear-classification-in-r-with-decision-trees/)"
   ]
  },
  {
   "cell_type": "code",
   "execution_count": 22,
   "metadata": {},
   "outputs": [],
   "source": [
    "# load the package\n",
    "library(rpart)"
   ]
  },
  {
   "cell_type": "code",
   "execution_count": 23,
   "metadata": {},
   "outputs": [],
   "source": [
    "# load data (this is included with R)\n",
    "data(iris)"
   ]
  },
  {
   "cell_type": "code",
   "execution_count": 24,
   "metadata": {},
   "outputs": [],
   "source": [
    "# fit model\n",
    "fit <- rpart(Species~., data=iris)"
   ]
  },
  {
   "cell_type": "code",
   "execution_count": 25,
   "metadata": {},
   "outputs": [
    {
     "name": "stdout",
     "output_type": "stream",
     "text": [
      "Call:\n",
      "rpart(formula = Species ~ ., data = iris)\n",
      "  n= 150 \n",
      "\n",
      "    CP nsplit rel error xerror       xstd\n",
      "1 0.50      0      1.00   1.19 0.04959167\n",
      "2 0.44      1      0.50   0.61 0.06016090\n",
      "3 0.01      2      0.06   0.08 0.02751969\n",
      "\n",
      "Variable importance\n",
      " Petal.Width Petal.Length Sepal.Length  Sepal.Width \n",
      "          34           31           21           14 \n",
      "\n",
      "Node number 1: 150 observations,    complexity param=0.5\n",
      "  predicted class=setosa      expected loss=0.6666667  P(node) =1\n",
      "    class counts:    50    50    50\n",
      "   probabilities: 0.333 0.333 0.333 \n",
      "  left son=2 (50 obs) right son=3 (100 obs)\n",
      "  Primary splits:\n",
      "      Petal.Length < 2.45 to the left,  improve=50.00000, (0 missing)\n",
      "      Petal.Width  < 0.8  to the left,  improve=50.00000, (0 missing)\n",
      "      Sepal.Length < 5.45 to the left,  improve=34.16405, (0 missing)\n",
      "      Sepal.Width  < 3.35 to the right, improve=19.03851, (0 missing)\n",
      "  Surrogate splits:\n",
      "      Petal.Width  < 0.8  to the left,  agree=1.000, adj=1.00, (0 split)\n",
      "      Sepal.Length < 5.45 to the left,  agree=0.920, adj=0.76, (0 split)\n",
      "      Sepal.Width  < 3.35 to the right, agree=0.833, adj=0.50, (0 split)\n",
      "\n",
      "Node number 2: 50 observations\n",
      "  predicted class=setosa      expected loss=0  P(node) =0.3333333\n",
      "    class counts:    50     0     0\n",
      "   probabilities: 1.000 0.000 0.000 \n",
      "\n",
      "Node number 3: 100 observations,    complexity param=0.44\n",
      "  predicted class=versicolor  expected loss=0.5  P(node) =0.6666667\n",
      "    class counts:     0    50    50\n",
      "   probabilities: 0.000 0.500 0.500 \n",
      "  left son=6 (54 obs) right son=7 (46 obs)\n",
      "  Primary splits:\n",
      "      Petal.Width  < 1.75 to the left,  improve=38.969400, (0 missing)\n",
      "      Petal.Length < 4.75 to the left,  improve=37.353540, (0 missing)\n",
      "      Sepal.Length < 6.15 to the left,  improve=10.686870, (0 missing)\n",
      "      Sepal.Width  < 2.45 to the left,  improve= 3.555556, (0 missing)\n",
      "  Surrogate splits:\n",
      "      Petal.Length < 4.75 to the left,  agree=0.91, adj=0.804, (0 split)\n",
      "      Sepal.Length < 6.15 to the left,  agree=0.73, adj=0.413, (0 split)\n",
      "      Sepal.Width  < 2.95 to the left,  agree=0.67, adj=0.283, (0 split)\n",
      "\n",
      "Node number 6: 54 observations\n",
      "  predicted class=versicolor  expected loss=0.09259259  P(node) =0.36\n",
      "    class counts:     0    49     5\n",
      "   probabilities: 0.000 0.907 0.093 \n",
      "\n",
      "Node number 7: 46 observations\n",
      "  predicted class=virginica   expected loss=0.02173913  P(node) =0.3066667\n",
      "    class counts:     0     1    45\n",
      "   probabilities: 0.000 0.022 0.978 \n",
      "\n"
     ]
    }
   ],
   "source": [
    "# summarize the fit\n",
    "summary(fit)"
   ]
  },
  {
   "cell_type": "code",
   "execution_count": 26,
   "metadata": {},
   "outputs": [],
   "source": [
    "# make predictions\n",
    "predictions <- predict(fit, iris[,1:4], type=\"class\")"
   ]
  },
  {
   "cell_type": "code",
   "execution_count": 27,
   "metadata": {},
   "outputs": [
    {
     "data": {
      "text/plain": [
       "            \n",
       "predictions  setosa versicolor virginica\n",
       "  setosa         50          0         0\n",
       "  versicolor      0         49         5\n",
       "  virginica       0          1        45"
      ]
     },
     "metadata": {},
     "output_type": "display_data"
    }
   ],
   "source": [
    "# summarize accuracy\n",
    "table(predictions, iris$Species)"
   ]
  }
 ],
 "metadata": {
  "kernelspec": {
   "display_name": "R",
   "language": "R",
   "name": "ir"
  },
  "language_info": {
   "codemirror_mode": "r",
   "file_extension": ".r",
   "mimetype": "text/x-r-source",
   "name": "R",
   "pygments_lexer": "r",
   "version": "3.6.1"
  }
 },
 "nbformat": 4,
 "nbformat_minor": 2
}
